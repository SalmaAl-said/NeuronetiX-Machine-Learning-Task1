{
 "cells": [
  {
   "cell_type": "markdown",
   "id": "54ac5876-90b4-4342-9ec5-26cae7dd2503",
   "metadata": {},
   "source": [
    "# Salary Dataset "
   ]
  },
  {
   "cell_type": "markdown",
   "id": "61ceaf1a-bfe1-44d9-afb4-a87602343b39",
   "metadata": {},
   "source": [
    "## 1. Importing Libraries"
   ]
  },
  {
   "cell_type": "code",
   "execution_count": 86,
   "id": "af814f68-5022-4554-bf31-1b8613960a94",
   "metadata": {},
   "outputs": [],
   "source": [
    "import pandas as pd\n",
    "import numpy as np\n",
    "from sklearn.model_selection import train_test_split, cross_val_score\n",
    "from sklearn.linear_model import LinearRegression\n",
    "from sklearn.metrics import mean_squared_error, mean_absolute_error, r2_score, confusion_matrix, roc_curve, auc\n",
    "import matplotlib.pyplot as plt"
   ]
  },
  {
   "cell_type": "markdown",
   "id": "228851c9-61b2-49c1-92b7-a474cba7efdd",
   "metadata": {},
   "source": [
    "## 2. Loading the Dataset"
   ]
  },
  {
   "cell_type": "code",
   "execution_count": 87,
   "id": "883a3b9c-e214-47f7-be73-2836f6221d04",
   "metadata": {},
   "outputs": [
    {
     "data": {
      "text/html": [
       "<div>\n",
       "<style scoped>\n",
       "    .dataframe tbody tr th:only-of-type {\n",
       "        vertical-align: middle;\n",
       "    }\n",
       "\n",
       "    .dataframe tbody tr th {\n",
       "        vertical-align: top;\n",
       "    }\n",
       "\n",
       "    .dataframe thead th {\n",
       "        text-align: right;\n",
       "    }\n",
       "</style>\n",
       "<table border=\"1\" class=\"dataframe\">\n",
       "  <thead>\n",
       "    <tr style=\"text-align: right;\">\n",
       "      <th></th>\n",
       "      <th>Unnamed: 0</th>\n",
       "      <th>YearsExperience</th>\n",
       "      <th>Salary</th>\n",
       "    </tr>\n",
       "  </thead>\n",
       "  <tbody>\n",
       "    <tr>\n",
       "      <th>0</th>\n",
       "      <td>0</td>\n",
       "      <td>1.2</td>\n",
       "      <td>39344.0</td>\n",
       "    </tr>\n",
       "    <tr>\n",
       "      <th>1</th>\n",
       "      <td>1</td>\n",
       "      <td>1.4</td>\n",
       "      <td>46206.0</td>\n",
       "    </tr>\n",
       "    <tr>\n",
       "      <th>2</th>\n",
       "      <td>2</td>\n",
       "      <td>1.6</td>\n",
       "      <td>37732.0</td>\n",
       "    </tr>\n",
       "    <tr>\n",
       "      <th>3</th>\n",
       "      <td>3</td>\n",
       "      <td>2.1</td>\n",
       "      <td>43526.0</td>\n",
       "    </tr>\n",
       "    <tr>\n",
       "      <th>4</th>\n",
       "      <td>4</td>\n",
       "      <td>2.3</td>\n",
       "      <td>39892.0</td>\n",
       "    </tr>\n",
       "  </tbody>\n",
       "</table>\n",
       "</div>"
      ],
      "text/plain": [
       "   Unnamed: 0  YearsExperience   Salary\n",
       "0           0              1.2  39344.0\n",
       "1           1              1.4  46206.0\n",
       "2           2              1.6  37732.0\n",
       "3           3              2.1  43526.0\n",
       "4           4              2.3  39892.0"
      ]
     },
     "execution_count": 87,
     "metadata": {},
     "output_type": "execute_result"
    }
   ],
   "source": [
    "# Load the Salary Dataset\n",
    "data = pd.read_csv(r'E:\\Neuronetix Traning\\Tasks\\Task 3\\Datasets\\Salary_dataset.csv')  # Add your correct path here\n",
    "data.head()  # Preview the data\n"
   ]
  },
  {
   "cell_type": "markdown",
   "id": "5bea970b-cbf1-47b1-a7ed-9f07e287be8e",
   "metadata": {},
   "source": [
    "## 3. Data Preprocessing"
   ]
  },
  {
   "cell_type": "code",
   "execution_count": 88,
   "id": "0c458a59-34e2-4418-9f80-8f04ed288a87",
   "metadata": {},
   "outputs": [],
   "source": [
    "# Define features (YearsExperience) and target variable (Salary)\n",
    "X = data[['YearsExperience']]\n",
    "y = data['Salary']"
   ]
  },
  {
   "cell_type": "markdown",
   "id": "2ae01939-0cc4-412c-8961-22c6015ed217",
   "metadata": {},
   "source": [
    "## 4. Train-Test Split"
   ]
  },
  {
   "cell_type": "code",
   "execution_count": 89,
   "id": "6903e0f4-af5e-49b9-945f-bdd70c30a758",
   "metadata": {},
   "outputs": [
    {
     "name": "stdout",
     "output_type": "stream",
     "text": [
      "Test Set MSE: 49830096.855908334, MAE: 6286.453830757745, R²: 0.9024461774180498\n"
     ]
    }
   ],
   "source": [
    "# Split data into Train and Test sets\n",
    "X_train, X_test, y_train, y_test = train_test_split(X, y, test_size=0.2, random_state=42)\n",
    "\n",
    "# Train the Linear Regression Model\n",
    "model = LinearRegression()\n",
    "model.fit(X_train, y_train)\n",
    "\n",
    "# Predict the Test set\n",
    "y_pred = model.predict(X_test)\n",
    "\n",
    "# Calculate MSE, MAE, and R2 for Test set\n",
    "mse = mean_squared_error(y_test, y_pred)\n",
    "mae = mean_absolute_error(y_test, y_pred)\n",
    "r2 = r2_score(y_test, y_pred)\n",
    "print(f\"Test Set MSE: {mse}, MAE: {mae}, R²: {r2}\")\n"
   ]
  },
  {
   "cell_type": "markdown",
   "id": "8c11b987-b65d-4da8-885c-4ddc5bb34b70",
   "metadata": {},
   "source": [
    "## 5. Train-Val-Test Split"
   ]
  },
  {
   "cell_type": "code",
   "execution_count": 90,
   "id": "3b415f3a-da72-4288-96e9-3a876a2e3406",
   "metadata": {},
   "outputs": [
    {
     "name": "stdout",
     "output_type": "stream",
     "text": [
      "Validation Set MSE: 12192116.601371067, MAE: 2513.295176064142, R²: 0.9845840557494077\n",
      "Test Set MSE: 49080989.5927547, MAE: 6249.07484073405, R²: 0.9039127263845481\n"
     ]
    }
   ],
   "source": [
    "# Split the data into Train, Validation, and Test sets\n",
    "X_train_val, X_test, y_train_val, y_test = train_test_split(X, y, test_size=0.2, random_state=42)\n",
    "X_train, X_val, y_train, y_val = train_test_split(X_train_val, y_train_val, test_size=0.25, random_state=42)\n",
    "\n",
    "# Train the model on Train set\n",
    "model.fit(X_train, y_train)\n",
    "\n",
    "# Predict on Validation and Test sets\n",
    "y_val_pred = model.predict(X_val)\n",
    "y_test_pred = model.predict(X_test)\n",
    "\n",
    "# Calculate MSE, MAE, and R² for Validation set\n",
    "val_mse = mean_squared_error(y_val, y_val_pred)\n",
    "val_mae = mean_absolute_error(y_val, y_val_pred)\n",
    "val_r2 = r2_score(y_val, y_val_pred)\n",
    "\n",
    "# Calculate MSE, MAE, and R² for Test set\n",
    "test_mse = mean_squared_error(y_test, y_test_pred)\n",
    "test_mae = mean_absolute_error(y_test, y_test_pred)\n",
    "test_r2 = r2_score(y_test, y_test_pred)\n",
    "\n",
    "print(f\"Validation Set MSE: {val_mse}, MAE: {val_mae}, R²: {val_r2}\")\n",
    "print(f\"Test Set MSE: {test_mse}, MAE: {test_mae}, R²: {test_r2}\")\n"
   ]
  },
  {
   "cell_type": "markdown",
   "id": "e2466840-0052-442b-abf3-68461888224d",
   "metadata": {},
   "source": [
    "## 6. Cross-Validation"
   ]
  },
  {
   "cell_type": "code",
   "execution_count": 91,
   "id": "7f43d2c9-860f-435e-9e6b-ac9c815a11cd",
   "metadata": {},
   "outputs": [
    {
     "name": "stdout",
     "output_type": "stream",
     "text": [
      "Cross-Validation MSE: 44168849.46887104, MAE: 5723.127060934896, R²: -0.053364276845097834\n"
     ]
    }
   ],
   "source": [
    "# Perform 5-Fold Cross Validation\n",
    "cv_mse = cross_val_score(model, X, y, cv=5, scoring='neg_mean_squared_error')\n",
    "cv_mae = cross_val_score(model, X, y, cv=5, scoring='neg_mean_absolute_error')\n",
    "cv_r2 = cross_val_score(model, X, y, cv=5, scoring='r2')\n",
    "\n",
    "print(f\"Cross-Validation MSE: {-np.mean(cv_mse)}, MAE: {-np.mean(cv_mae)}, R²: {np.mean(cv_r2)}\")\n"
   ]
  },
  {
   "cell_type": "markdown",
   "id": "e8d060b6-5133-47ab-a944-ae627a6ac91f",
   "metadata": {},
   "source": [
    "## 7. Confusion Matrix (Demonstration)\n"
   ]
  },
  {
   "cell_type": "code",
   "execution_count": 92,
   "id": "b560f7d3-ee58-415f-9bc3-989e5bae9b1b",
   "metadata": {},
   "outputs": [
    {
     "data": {
      "image/png": "[encoded data removed]",
      "text/plain": [
       "<Figure size 600x400 with 2 Axes>"
      ]
     },
     "metadata": {},
     "output_type": "display_data"
    }
   ],
   "source": [
    "import seaborn as sns\n",
    "from sklearn.metrics import confusion_matrix\n",
    "\n",
    "# Apply threshold for binary classification (for illustration purposes)\n",
    "y_pred_binary = (y_pred > y_pred.mean()).astype(int)\n",
    "y_test_binary = (y_test > y_test.mean()).astype(int)\n",
    "\n",
    "# Confusion Matrix\n",
    "cm = confusion_matrix(y_test_binary, y_pred_binary)\n",
    "\n",
    "# Plot Confusion Matrix\n",
    "plt.figure(figsize=(6,4))\n",
    "sns.heatmap(cm, annot=True, fmt='d', cmap='Blues', xticklabels=['Predicted 0', 'Predicted 1'], yticklabels=['Actual 0', 'Actual 1'])\n",
    "plt.ylabel('Actual Label')\n",
    "plt.xlabel('Predicted Label')\n",
    "plt.title('Confusion Matrix')\n",
    "plt.show()\n"
   ]
  },
  {
   "cell_type": "markdown",
   "id": "fb8d1d06-95b2-436b-a2d7-606d9fe5ef47",
   "metadata": {},
   "source": [
    "## 8. ROC Curve and AUC (Demonstration)"
   ]
  },
  {
   "cell_type": "code",
   "execution_count": 93,
   "id": "3c29aafd-2b44-45fd-8a46-d1f749e49c17",
   "metadata": {},
   "outputs": [
    {
     "data": {
      "image/png": "[encoded data removed]",
      "text/plain": [
       "<Figure size 640x480 with 1 Axes>"
      ]
     },
     "metadata": {},
     "output_type": "display_data"
    }
   ],
   "source": [
    "# Calculate ROC and AUC for binary outputs\n",
    "fpr, tpr, _ = roc_curve(y_test_binary, y_pred_binary)\n",
    "roc_auc = auc(fpr, tpr)\n",
    "\n",
    "# Plot ROC Curve\n",
    "plt.figure()\n",
    "plt.plot(fpr, tpr, label=f'ROC curve (area = {roc_auc:.2f})')\n",
    "plt.xlabel('False Positive Rate')\n",
    "plt.ylabel('True Positive Rate')\n",
    "plt.title('ROC Curve')\n",
    "plt.legend(loc='lower right')\n",
    "plt.show()"
   ]
  },
  {
   "cell_type": "markdown",
   "id": "17286e9d-fe6f-4726-833a-0e8050f51289",
   "metadata": {},
   "source": [
    "## 9. Summary of Results"
   ]
  },
  {
   "cell_type": "code",
   "execution_count": 94,
   "id": "1e0d4814-918f-42c8-9d9d-2a4147f80f95",
   "metadata": {},
   "outputs": [
    {
     "name": "stdout",
     "output_type": "stream",
     "text": [
      "Train-Test Split MSE: 49830096.855908334, MAE: 6286.453830757745, R²: 0.9024461774180498\n",
      "Train-Val-Test Split MSE: 12192116.601371067, MAE: 2513.295176064142, R²: 0.9845840557494077\n",
      "Cross-Validation MSE: 44168849.46887104, MAE: 5723.127060934896, R²: -0.053364276845097834\n"
     ]
    }
   ],
   "source": [
    "print(f\"Train-Test Split MSE: {mse}, MAE: {mae}, R²: {r2}\")\n",
    "print(f\"Train-Val-Test Split MSE: {val_mse}, MAE: {val_mae}, R²: {val_r2}\")\n",
    "print(f\"Cross-Validation MSE: {-np.mean(cv_mse)}, MAE: {-np.mean(cv_mae)}, R²: {np.mean(cv_r2)}\")\n"
   ]
  },
  {
   "cell_type": "code",
   "execution_count": null,
   "id": "276d30b6-72d3-443f-b86f-a13251557ca2",
   "metadata": {},
   "outputs": [],
   "source": []
  },
  {
   "cell_type": "markdown",
   "id": "deb33b76-7f3f-46ff-a684-48c9a33e82af",
   "metadata": {},
   "source": [
    "# Polynomial Linear Regression dataset "
   ]
  },
  {
   "cell_type": "markdown",
   "id": "7acb4e94-039b-42eb-a65f-c49105e65bca",
   "metadata": {},
   "source": [
    "## 1. Importing Libraries"
   ]
  },
  {
   "cell_type": "code",
   "execution_count": 95,
   "id": "f8aad1d6-bab0-4359-8aea-bc4a08d19a35",
   "metadata": {},
   "outputs": [],
   "source": [
    "import pandas as pd\n",
    "import numpy as np\n",
    "from sklearn.model_selection import train_test_split, cross_val_score\n",
    "from sklearn.linear_model import LinearRegression\n",
    "from sklearn.metrics import mean_squared_error, mean_absolute_error, r2_score, confusion_matrix, roc_curve, auc\n",
    "import matplotlib.pyplot as plt"
   ]
  },
  {
   "cell_type": "markdown",
   "id": "aa182e4c-d84a-48a5-9a00-bde27f490d63",
   "metadata": {},
   "source": [
    "## 2. Loading the Dataset"
   ]
  },
  {
   "cell_type": "code",
   "execution_count": 96,
   "id": "7ea6824a-347f-4c02-baa2-9afa516ea637",
   "metadata": {},
   "outputs": [
    {
     "data": {
      "text/html": [
       "<div>\n",
       "<style scoped>\n",
       "    .dataframe tbody tr th:only-of-type {\n",
       "        vertical-align: middle;\n",
       "    }\n",
       "\n",
       "    .dataframe tbody tr th {\n",
       "        vertical-align: top;\n",
       "    }\n",
       "\n",
       "    .dataframe thead th {\n",
       "        text-align: right;\n",
       "    }\n",
       "</style>\n",
       "<table border=\"1\" class=\"dataframe\">\n",
       "  <thead>\n",
       "    <tr style=\"text-align: right;\">\n",
       "      <th></th>\n",
       "      <th>Position</th>\n",
       "      <th>Level</th>\n",
       "      <th>Salary</th>\n",
       "    </tr>\n",
       "  </thead>\n",
       "  <tbody>\n",
       "    <tr>\n",
       "      <th>0</th>\n",
       "      <td>Teaching Assistants</td>\n",
       "      <td>1</td>\n",
       "      <td>45000</td>\n",
       "    </tr>\n",
       "    <tr>\n",
       "      <th>1</th>\n",
       "      <td>Guest Faculty</td>\n",
       "      <td>2</td>\n",
       "      <td>50000</td>\n",
       "    </tr>\n",
       "    <tr>\n",
       "      <th>2</th>\n",
       "      <td>Contractual Faculty</td>\n",
       "      <td>3</td>\n",
       "      <td>60000</td>\n",
       "    </tr>\n",
       "    <tr>\n",
       "      <th>3</th>\n",
       "      <td>Assistant Professor</td>\n",
       "      <td>4</td>\n",
       "      <td>80000</td>\n",
       "    </tr>\n",
       "    <tr>\n",
       "      <th>4</th>\n",
       "      <td>Associate Professor</td>\n",
       "      <td>5</td>\n",
       "      <td>110000</td>\n",
       "    </tr>\n",
       "  </tbody>\n",
       "</table>\n",
       "</div>"
      ],
      "text/plain": [
       "              Position  Level  Salary\n",
       "0  Teaching Assistants      1   45000\n",
       "1        Guest Faculty      2   50000\n",
       "2  Contractual Faculty      3   60000\n",
       "3  Assistant Professor      4   80000\n",
       "4  Associate Professor      5  110000"
      ]
     },
     "execution_count": 96,
     "metadata": {},
     "output_type": "execute_result"
    }
   ],
   "source": [
    "# Load the Salary Dataset\n",
    "data = pd.read_csv(r'E:\\Neuronetix Traning\\Tasks\\Task 3\\Datasets\\rank_salary.csv')  \n",
    "data.head()  # Preview the data\n"
   ]
  },
  {
   "cell_type": "markdown",
   "id": "7c2b08e7-63ec-4068-9add-e56bcde555ad",
   "metadata": {},
   "source": [
    "## 3. Data Preprocessing"
   ]
  },
  {
   "cell_type": "code",
   "execution_count": 97,
   "id": "b134451a-21b2-4786-9b75-8c70a2862df6",
   "metadata": {},
   "outputs": [],
   "source": [
    "# Define features (Level) and target variable (Salary)\n",
    "X = data[['Level']]\n",
    "y = data['Salary']"
   ]
  },
  {
   "cell_type": "markdown",
   "id": "212b7be5-c215-4bef-b898-b85e48690212",
   "metadata": {},
   "source": [
    "## 4. Train-Test Split"
   ]
  },
  {
   "cell_type": "code",
   "execution_count": 98,
   "id": "d2e69feb-5c70-40c5-ba26-b18699dab597",
   "metadata": {},
   "outputs": [
    {
     "name": "stdout",
     "output_type": "stream",
     "text": [
      "Test Set MSE: 7840057409.334131, MAE: 82607.75862068967, R²: 0.8451346684575974\n"
     ]
    }
   ],
   "source": [
    "# Split data into Train and Test sets\n",
    "X_train, X_test, y_train, y_test = train_test_split(X, y, test_size=0.2, random_state=42)\n",
    "\n",
    "# Train the Linear Regression Model\n",
    "model = LinearRegression()\n",
    "model.fit(X_train, y_train)\n",
    "\n",
    "# Predict the Test set\n",
    "y_pred = model.predict(X_test)\n",
    "\n",
    "# Calculate MSE, MAE, and R2 for Test set\n",
    "mse = mean_squared_error(y_test, y_pred)\n",
    "mae = mean_absolute_error(y_test, y_pred)\n",
    "r2 = r2_score(y_test, y_pred)\n",
    "print(f\"Test Set MSE: {mse}, MAE: {mae}, R²: {r2}\")\n"
   ]
  },
  {
   "cell_type": "markdown",
   "id": "d1a99175-b612-437b-928b-b833bd8356a4",
   "metadata": {},
   "source": [
    "## 5. Train-Val-Test Split"
   ]
  },
  {
   "cell_type": "code",
   "execution_count": 99,
   "id": "47f24d8a-bc2d-4517-a5dd-843e044d33f9",
   "metadata": {},
   "outputs": [
    {
     "name": "stdout",
     "output_type": "stream",
     "text": [
      "Validation Set MSE: 67110739999.99998, MAE: 199299.99999999994, R²: -62.536795266272165\n",
      "Test Set MSE: 37999984999.99999, MAE: 180650.0, R²: 0.24938301234567917\n"
     ]
    }
   ],
   "source": [
    "# Split the data into Train, Validation, and Test sets\n",
    "X_train_val, X_test, y_train_val, y_test = train_test_split(X, y, test_size=0.2, random_state=42)\n",
    "X_train, X_val, y_train, y_val = train_test_split(X_train_val, y_train_val, test_size=0.25, random_state=42)\n",
    "\n",
    "# Train the model on Train set\n",
    "model.fit(X_train, y_train)\n",
    "\n",
    "# Predict on Validation and Test sets\n",
    "y_val_pred = model.predict(X_val)\n",
    "y_test_pred = model.predict(X_test)\n",
    "\n",
    "# Calculate MSE, MAE, and R² for Validation set\n",
    "val_mse = mean_squared_error(y_val, y_val_pred)\n",
    "val_mae = mean_absolute_error(y_val, y_val_pred)\n",
    "val_r2 = r2_score(y_val, y_val_pred)\n",
    "\n",
    "# Calculate MSE, MAE, and R² for Test set\n",
    "test_mse = mean_squared_error(y_test, y_test_pred)\n",
    "test_mae = mean_absolute_error(y_test, y_test_pred)\n",
    "test_r2 = r2_score(y_test, y_test_pred)\n",
    "\n",
    "print(f\"Validation Set MSE: {val_mse}, MAE: {val_mae}, R²: {val_r2}\")\n",
    "print(f\"Test Set MSE: {test_mse}, MAE: {test_mae}, R²: {test_r2}\")\n"
   ]
  },
  {
   "cell_type": "markdown",
   "id": "86b5c210-a584-4e86-ac49-1156460d5046",
   "metadata": {},
   "source": [
    "## 6. Cross-Validation"
   ]
  },
  {
   "cell_type": "code",
   "execution_count": 100,
   "id": "de3eafec-e316-40a3-a6b3-cc523e742e8d",
   "metadata": {},
   "outputs": [
    {
     "name": "stdout",
     "output_type": "stream",
     "text": [
      "Cross-Validation MSE: 86661778604.29478, MAE: 233318.45238095243, R²: -3008.4028091967502\n"
     ]
    }
   ],
   "source": [
    "# Perform 5-Fold Cross Validation\n",
    "cv_mse = cross_val_score(model, X, y, cv=5, scoring='neg_mean_squared_error')\n",
    "cv_mae = cross_val_score(model, X, y, cv=5, scoring='neg_mean_absolute_error')\n",
    "cv_r2 = cross_val_score(model, X, y, cv=5, scoring='r2')\n",
    "\n",
    "print(f\"Cross-Validation MSE: {-np.mean(cv_mse)}, MAE: {-np.mean(cv_mae)}, R²: {np.mean(cv_r2)}\")\n",
    "\n"
   ]
  },
  {
   "cell_type": "markdown",
   "id": "56676a43-ac99-4219-b13f-b8da2b5ed17d",
   "metadata": {},
   "source": [
    "## 7. Confusion Matrix (Demonstration)\n"
   ]
  },
  {
   "cell_type": "code",
   "execution_count": 101,
   "id": "ef83f341-97e0-4344-ae87-86b9d6809af6",
   "metadata": {},
   "outputs": [
    {
     "data": {
      "image/png": "[encoded data removed]",
      "text/plain": [
       "<Figure size 600x400 with 2 Axes>"
      ]
     },
     "metadata": {},
     "output_type": "display_data"
    }
   ],
   "source": [
    "import seaborn as sns\n",
    "from sklearn.metrics import confusion_matrix\n",
    "\n",
    "# Apply threshold for binary classification (for illustration purposes)\n",
    "y_pred_binary = (y_pred > y_pred.mean()).astype(int)\n",
    "y_test_binary = (y_test > y_test.mean()).astype(int)\n",
    "\n",
    "# Confusion Matrix\n",
    "cm = confusion_matrix(y_test_binary, y_pred_binary)\n",
    "\n",
    "# Plot Confusion Matrix\n",
    "plt.figure(figsize=(6,4))\n",
    "sns.heatmap(cm, annot=True, fmt='d', cmap='Blues', xticklabels=['Predicted 0', 'Predicted 1'], yticklabels=['Actual 0', 'Actual 1'])\n",
    "plt.ylabel('Actual Label')\n",
    "plt.xlabel('Predicted Label')\n",
    "plt.title('Confusion Matrix')\n",
    "plt.show()\n"
   ]
  },
  {
   "cell_type": "markdown",
   "id": "63622f45-555d-48e7-b38f-84c9de8763b9",
   "metadata": {},
   "source": [
    "## 8. ROC Curve and AUC (Demonstration)"
   ]
  },
  {
   "cell_type": "code",
   "execution_count": 102,
   "id": "5b955431-73ad-42ab-9355-8e0278f42756",
   "metadata": {},
   "outputs": [
    {
     "data": {
      "image/png": "[encoded data removed]",
      "text/plain": [
       "<Figure size 640x480 with 1 Axes>"
      ]
     },
     "metadata": {},
     "output_type": "display_data"
    }
   ],
   "source": [
    "# Calculate ROC and AUC for binary outputs\n",
    "fpr, tpr, _ = roc_curve(y_test_binary, y_pred_binary)\n",
    "roc_auc = auc(fpr, tpr)\n",
    "\n",
    "# Plot ROC Curve\n",
    "plt.figure()\n",
    "plt.plot(fpr, tpr, label=f'ROC curve (area = {roc_auc:.2f})')\n",
    "plt.xlabel('False Positive Rate')\n",
    "plt.ylabel('True Positive Rate')\n",
    "plt.title('ROC Curve')\n",
    "plt.legend(loc='lower right')\n",
    "plt.show()\n"
   ]
  },
  {
   "cell_type": "markdown",
   "id": "07881749-023d-43ed-905c-d87325e5c27d",
   "metadata": {},
   "source": [
    "## 9. Summary of Results"
   ]
  },
  {
   "cell_type": "code",
   "execution_count": 103,
   "id": "11120d29-be78-409a-a902-92c361b9efa1",
   "metadata": {},
   "outputs": [
    {
     "name": "stdout",
     "output_type": "stream",
     "text": [
      "Train-Test Split MSE: 7840057409.334131, MAE: 82607.75862068967, R²: 0.8451346684575974\n",
      "Train-Val-Test Split MSE: 67110739999.99998, MAE: 199299.99999999994, R²: -62.536795266272165\n",
      "Cross-Validation MSE: 86661778604.29478, MAE: 233318.45238095243, R²: -3008.4028091967502\n"
     ]
    }
   ],
   "source": [
    "print(f\"Train-Test Split MSE: {mse}, MAE: {mae}, R²: {r2}\")\n",
    "print(f\"Train-Val-Test Split MSE: {val_mse}, MAE: {val_mae}, R²: {val_r2}\")\n",
    "print(f\"Cross-Validation MSE: {-np.mean(cv_mse)}, MAE: {-np.mean(cv_mae)}, R²: {np.mean(cv_r2)}\")"
   ]
  },
  {
   "cell_type": "code",
   "execution_count": null,
   "id": "8c9cd4de-0870-435a-9e55-3dee7fc6b694",
   "metadata": {},
   "outputs": [],
   "source": []
  },
  {
   "cell_type": "markdown",
   "id": "ff134c84-0803-4a59-8d49-272e79e722af",
   "metadata": {},
   "source": [
    "# Multiple Linear Regression dataset"
   ]
  },
  {
   "cell_type": "markdown",
   "id": "314802bd-962d-4912-a7c0-445364d5edec",
   "metadata": {},
   "source": [
    "## 1. Importing Libraries"
   ]
  },
  {
   "cell_type": "code",
   "execution_count": 104,
   "id": "d48521e4-a959-491a-8f4c-0cf14392184e",
   "metadata": {},
   "outputs": [],
   "source": [
    "import pandas as pd\n",
    "import numpy as np\n",
    "from sklearn.model_selection import train_test_split, cross_val_score\n",
    "from sklearn.linear_model import LinearRegression\n",
    "from sklearn.metrics import mean_squared_error, mean_absolute_error, r2_score, confusion_matrix, roc_curve, auc\n",
    "import matplotlib.pyplot as plt"
   ]
  },
  {
   "cell_type": "markdown",
   "id": "27199049-668a-4cdf-8f4d-9dfa2329cbbe",
   "metadata": {},
   "source": [
    "## 2. Loading the Dataset"
   ]
  },
  {
   "cell_type": "code",
   "execution_count": 105,
   "id": "fa5f3430-6421-4c79-95de-06a7e9651514",
   "metadata": {},
   "outputs": [
    {
     "data": {
      "text/html": [
       "<div>\n",
       "<style scoped>\n",
       "    .dataframe tbody tr th:only-of-type {\n",
       "        vertical-align: middle;\n",
       "    }\n",
       "\n",
       "    .dataframe tbody tr th {\n",
       "        vertical-align: top;\n",
       "    }\n",
       "\n",
       "    .dataframe thead th {\n",
       "        text-align: right;\n",
       "    }\n",
       "</style>\n",
       "<table border=\"1\" class=\"dataframe\">\n",
       "  <thead>\n",
       "    <tr style=\"text-align: right;\">\n",
       "      <th></th>\n",
       "      <th>age</th>\n",
       "      <th>experience</th>\n",
       "      <th>income</th>\n",
       "    </tr>\n",
       "  </thead>\n",
       "  <tbody>\n",
       "    <tr>\n",
       "      <th>0</th>\n",
       "      <td>25</td>\n",
       "      <td>1</td>\n",
       "      <td>30450</td>\n",
       "    </tr>\n",
       "    <tr>\n",
       "      <th>1</th>\n",
       "      <td>30</td>\n",
       "      <td>3</td>\n",
       "      <td>35670</td>\n",
       "    </tr>\n",
       "    <tr>\n",
       "      <th>2</th>\n",
       "      <td>47</td>\n",
       "      <td>2</td>\n",
       "      <td>31580</td>\n",
       "    </tr>\n",
       "    <tr>\n",
       "      <th>3</th>\n",
       "      <td>32</td>\n",
       "      <td>5</td>\n",
       "      <td>40130</td>\n",
       "    </tr>\n",
       "    <tr>\n",
       "      <th>4</th>\n",
       "      <td>43</td>\n",
       "      <td>10</td>\n",
       "      <td>47830</td>\n",
       "    </tr>\n",
       "  </tbody>\n",
       "</table>\n",
       "</div>"
      ],
      "text/plain": [
       "   age  experience  income\n",
       "0   25           1   30450\n",
       "1   30           3   35670\n",
       "2   47           2   31580\n",
       "3   32           5   40130\n",
       "4   43          10   47830"
      ]
     },
     "execution_count": 105,
     "metadata": {},
     "output_type": "execute_result"
    }
   ],
   "source": [
    "# Load the Salary Dataset\n",
    "data = pd.read_csv(r'E:\\Neuronetix Traning\\Tasks\\Task 3\\Datasets\\multiple_linear_regression_dataset.csv')  \n",
    "data.head()  # Preview the data\n"
   ]
  },
  {
   "cell_type": "markdown",
   "id": "b9b89569-32d3-4259-8727-a5e9d3f0f266",
   "metadata": {},
   "source": [
    "## 3. Data Preprocessing"
   ]
  },
  {
   "cell_type": "code",
   "execution_count": 106,
   "id": "27527af5-c340-440e-a33d-81b41b575d9f",
   "metadata": {},
   "outputs": [],
   "source": [
    "# Define features (independent variables) and target variable (dependent variable)\n",
    "X = data[['age', 'experience']]  # Features\n",
    "y = data['income']  # Target variable (dependent variable)\n"
   ]
  },
  {
   "cell_type": "markdown",
   "id": "15f923b8-c577-43c1-8fd5-b8dbfeda6101",
   "metadata": {},
   "source": [
    "## 4. Train-Test Split"
   ]
  },
  {
   "cell_type": "code",
   "execution_count": 107,
   "id": "a647b98c-3bd8-41ee-bc60-505a8490e680",
   "metadata": {},
   "outputs": [
    {
     "name": "stdout",
     "output_type": "stream",
     "text": [
      "Test Set MSE: 753796.7693734544, MAE: 797.9113810821873, R²: 0.9387098237077887\n"
     ]
    }
   ],
   "source": [
    "# Split data into Train and Test sets\n",
    "X_train, X_test, y_train, y_test = train_test_split(X, y, test_size=0.2, random_state=42)\n",
    "\n",
    "# Train the Linear Regression Model\n",
    "model = LinearRegression()\n",
    "model.fit(X_train, y_train)\n",
    "\n",
    "# Predict the Test set\n",
    "y_pred = model.predict(X_test)\n",
    "\n",
    "# Calculate MSE, MAE, and R2 for Test set\n",
    "mse = mean_squared_error(y_test, y_pred)\n",
    "mae = mean_absolute_error(y_test, y_pred)\n",
    "r2 = r2_score(y_test, y_pred)\n",
    "print(f\"Test Set MSE: {mse}, MAE: {mae}, R²: {r2}\")\n"
   ]
  },
  {
   "cell_type": "markdown",
   "id": "8993c255-73b0-45f8-80a1-812bf7c87c82",
   "metadata": {},
   "source": [
    "## 5. Train-Val-Test Split"
   ]
  },
  {
   "cell_type": "code",
   "execution_count": 108,
   "id": "3fcd55c6-cc77-4ee1-88ac-5b78230d16dc",
   "metadata": {},
   "outputs": [
    {
     "name": "stdout",
     "output_type": "stream",
     "text": [
      "Validation Set MSE: 2390672.9754583323, MAE: 1428.5836699911633, R²: 0.9726136495647532\n",
      "Test Set MSE: 788467.3593407925, MAE: 863.2393321550298, R²: 0.9358908058271211\n"
     ]
    }
   ],
   "source": [
    "# Split the data into Train, Validation, and Test sets\n",
    "X_train_val, X_test, y_train_val, y_test = train_test_split(X, y, test_size=0.2, random_state=42)\n",
    "X_train, X_val, y_train, y_val = train_test_split(X_train_val, y_train_val, test_size=0.25, random_state=42)\n",
    "\n",
    "# Train the model on Train set\n",
    "model.fit(X_train, y_train)\n",
    "\n",
    "# Predict on Validation and Test sets\n",
    "y_val_pred = model.predict(X_val)\n",
    "y_test_pred = model.predict(X_test)\n",
    "\n",
    "# Calculate MSE, MAE, and R² for Validation set\n",
    "val_mse = mean_squared_error(y_val, y_val_pred)\n",
    "val_mae = mean_absolute_error(y_val, y_val_pred)\n",
    "val_r2 = r2_score(y_val, y_val_pred)\n",
    "\n",
    "# Calculate MSE, MAE, and R² for Test set\n",
    "test_mse = mean_squared_error(y_test, y_test_pred)\n",
    "test_mae = mean_absolute_error(y_test, y_test_pred)\n",
    "test_r2 = r2_score(y_test, y_test_pred)\n",
    "\n",
    "print(f\"Validation Set MSE: {val_mse}, MAE: {val_mae}, R²: {val_r2}\")\n",
    "print(f\"Test Set MSE: {test_mse}, MAE: {test_mae}, R²: {test_r2}\")\n"
   ]
  },
  {
   "cell_type": "markdown",
   "id": "bb837197-d108-465d-b2b0-8deccf987bbe",
   "metadata": {},
   "source": [
    "## 6. Cross-Validation"
   ]
  },
  {
   "cell_type": "code",
   "execution_count": 109,
   "id": "64bb66e3-7993-466c-bb2c-24184fc08746",
   "metadata": {},
   "outputs": [
    {
     "name": "stdout",
     "output_type": "stream",
     "text": [
      "Cross-Validation MSE: 1944174.0363691833, MAE: 1122.6188216256794, R²: 0.9331289972266468\n"
     ]
    }
   ],
   "source": [
    "# Perform 5-Fold Cross Validation\n",
    "cv_mse = cross_val_score(model, X, y, cv=5, scoring='neg_mean_squared_error')\n",
    "cv_mae = cross_val_score(model, X, y, cv=5, scoring='neg_mean_absolute_error')\n",
    "cv_r2 = cross_val_score(model, X, y, cv=5, scoring='r2')\n",
    "\n",
    "print(f\"Cross-Validation MSE: {-np.mean(cv_mse)}, MAE: {-np.mean(cv_mae)}, R²: {np.mean(cv_r2)}\")\n"
   ]
  },
  {
   "cell_type": "markdown",
   "id": "1b4bc3e4-249f-4e12-b7d3-dbb05a0ee18b",
   "metadata": {},
   "source": [
    "## 7. Confusion Matrix (Demonstration)\n"
   ]
  },
  {
   "cell_type": "code",
   "execution_count": 110,
   "id": "bf7e2fc9-89d2-4055-b025-964abff0fb82",
   "metadata": {},
   "outputs": [
    {
     "data": {
      "image/png": "[encoded data removed]",
      "text/plain": [
       "<Figure size 600x400 with 2 Axes>"
      ]
     },
     "metadata": {},
     "output_type": "display_data"
    }
   ],
   "source": [
    "import seaborn as sns\n",
    "from sklearn.metrics import confusion_matrix\n",
    "\n",
    "# Apply threshold for binary classification (for illustration purposes)\n",
    "y_pred_binary = (y_pred > y_pred.mean()).astype(int)\n",
    "y_test_binary = (y_test > y_test.mean()).astype(int)\n",
    "\n",
    "# Confusion Matrix\n",
    "cm = confusion_matrix(y_test_binary, y_pred_binary)\n",
    "\n",
    "# Plot Confusion Matrix\n",
    "plt.figure(figsize=(6,4))\n",
    "sns.heatmap(cm, annot=True, fmt='d', cmap='Blues', xticklabels=['Predicted 0', 'Predicted 1'], yticklabels=['Actual 0', 'Actual 1'])\n",
    "plt.ylabel('Actual Label')\n",
    "plt.xlabel('Predicted Label')\n",
    "plt.title('Confusion Matrix')\n",
    "plt.show()\n"
   ]
  },
  {
   "cell_type": "markdown",
   "id": "b4431945-d15f-475b-9222-dcabf1e53019",
   "metadata": {},
   "source": [
    "## 8. ROC Curve and AUC (Demonstration)"
   ]
  },
  {
   "cell_type": "code",
   "execution_count": 111,
   "id": "5951f44e-379c-4a26-b460-fa5fa1ba40f0",
   "metadata": {},
   "outputs": [
    {
     "data": {
      "image/png": "[encoded data removed]",
      "text/plain": [
       "<Figure size 640x480 with 1 Axes>"
      ]
     },
     "metadata": {},
     "output_type": "display_data"
    }
   ],
   "source": [
    "# Calculate ROC and AUC for binary outputs\n",
    "fpr, tpr, _ = roc_curve(y_test_binary, y_pred_binary)\n",
    "roc_auc = auc(fpr, tpr)\n",
    "\n",
    "# Plot ROC Curve\n",
    "plt.figure()\n",
    "plt.plot(fpr, tpr, label=f'ROC curve (area = {roc_auc:.2f})')\n",
    "plt.xlabel('False Positive Rate')\n",
    "plt.ylabel('True Positive Rate')\n",
    "plt.title('ROC Curve')\n",
    "plt.legend(loc='lower right')\n",
    "plt.show()\n"
   ]
  },
  {
   "cell_type": "markdown",
   "id": "db21b970-78d6-4852-971e-693d626ad654",
   "metadata": {},
   "source": [
    "## 9. Summary of Results"
   ]
  },
  {
   "cell_type": "code",
   "execution_count": 112,
   "id": "f104959e-52f2-42f5-b057-e5d4fdb262bd",
   "metadata": {},
   "outputs": [
    {
     "name": "stdout",
     "output_type": "stream",
     "text": [
      "Train-Test Split MSE: 753796.7693734544, MAE: 797.9113810821873, R²: 0.9387098237077887\n",
      "Train-Val-Test Split MSE: 2390672.9754583323, MAE: 1428.5836699911633, R²: 0.9726136495647532\n",
      "Cross-Validation MSE: 1944174.0363691833, MAE: 1122.6188216256794, R²: 0.9331289972266468\n"
     ]
    }
   ],
   "source": [
    "print(f\"Train-Test Split MSE: {mse}, MAE: {mae}, R²: {r2}\")\n",
    "print(f\"Train-Val-Test Split MSE: {val_mse}, MAE: {val_mae}, R²: {val_r2}\")\n",
    "print(f\"Cross-Validation MSE: {-np.mean(cv_mse)}, MAE: {-np.mean(cv_mae)}, R²: {np.mean(cv_r2)}\")\n"
   ]
  }
 ],
 "metadata": {
  "kernelspec": {
   "display_name": "Python 3 (ipykernel)",
   "language": "python",
   "name": "python3"
  },
  "language_info": {
   "codemirror_mode": {
    "name": "ipython",
    "version": 3
   },
   "file_extension": ".py",
   "mimetype": "text/x-python",
   "name": "python",
   "nbconvert_exporter": "python",
   "pygments_lexer": "ipython3",
   "version": "3.12.5"
  }
 },
 "nbformat": 4,
 "nbformat_minor": 5
}
